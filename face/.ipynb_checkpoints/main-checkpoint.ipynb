{
 "cells": [
  {
   "cell_type": "code",
   "execution_count": 1,
   "metadata": {},
   "outputs": [
    {
     "data": {
      "application/javascript": [
       "\n",
       "require(['notebook/js/codecell'], function(codecell) {\n",
       "  codecell.CodeCell.options_default.highlight_modes[\n",
       "      'magic_text/x-csrc'] = {'reg':[/^%%microblaze/]};\n",
       "  Jupyter.notebook.events.one('kernel_ready.Kernel', function(){\n",
       "      Jupyter.notebook.get_cells().map(function(cell){\n",
       "          if (cell.cell_type == 'code'){ cell.auto_highlight(); } }) ;\n",
       "  });\n",
       "});\n"
      ]
     },
     "metadata": {},
     "output_type": "display_data"
    },
    {
     "name": "stdout",
     "output_type": "stream",
     "text": [
      "overlay init\n"
     ]
    }
   ],
   "source": [
    "from pynq.overlays.base import BaseOverlay\n",
    "from pynq.lib.video import *\n",
    "import matplotlib.pyplot as plt\n",
    "import cv2\n",
    "import numpy as np      \n",
    "from time import sleep\n",
    "\n",
    "base = BaseOverlay(\"base.bit\")\n",
    "print(\"overlay init\")"
   ]
  },
  {
   "cell_type": "code",
   "execution_count": 2,
   "metadata": {},
   "outputs": [
    {
     "name": "stdout",
     "output_type": "stream",
     "text": [
      "buttons init\n"
     ]
    }
   ],
   "source": [
    "# 硬件模块\n",
    "sw0 = base.switches[0]\n",
    "sw1 = base.switches[1]\n",
    "rgbled_position = [4,5]\n",
    "print(\"buttons init\")"
   ]
  },
  {
   "cell_type": "code",
   "execution_count": 3,
   "metadata": {
    "scrolled": true
   },
   "outputs": [
    {
     "name": "stdout",
     "output_type": "stream",
     "text": [
      "audio init\n"
     ]
    }
   ],
   "source": [
    "# 语音模块\n",
    "pAudio = base.audio \n",
    "pAudio.select_microphone()\n",
    "\n",
    "def audio_play(str) :\n",
    "    if str == 'known':\n",
    "        pAudio.load(\"/home/xilinx/jupyter_notebooks/face/audio/known.wav\")\n",
    "        pAudio.play()\n",
    "    elif str == 'unknown':\n",
    "        pAudio.load(\"/home/xilinx/jupyter_notebooks/face/audio/unknown.wav\")\n",
    "        pAudio.play()\n",
    "\n",
    "print(\"audio init\")"
   ]
  },
  {
   "cell_type": "code",
   "execution_count": 4,
   "metadata": {},
   "outputs": [
    {
     "name": "stdout",
     "output_type": "stream",
     "text": [
      "face recognition success\n"
     ]
    }
   ],
   "source": [
    "# 面容识别模块\n",
    "recognizer = cv2.face.createLBPHFaceRecognizer()\n",
    "recognizer.load(\n",
    "    '/home/xilinx/jupyter_notebooks/face/'\n",
    "    'trainner.yml')\n",
    "face_cascade = cv2.CascadeClassifier(\n",
    "    '/home/xilinx/jupyter_notebooks/face/'\n",
    "    'haarcascade_frontalface_alt.xml')\n",
    "# 变量定义\n",
    "idnum = 0\n",
    "p = [0,0]\n",
    "count = 0\n",
    "count1 = 0\n",
    "# 录入用户编号\n",
    "names = ['初始', 'zyb', 'jwj', 'user2', 'user3']\n",
    "print(\"face recognition init\")"
   ]
  },
  {
   "cell_type": "code",
   "execution_count": 5,
   "metadata": {},
   "outputs": [],
   "source": [
    "# 姿态检测模块\n",
    "fg = cv2.createBackgroundSubtractorMOG2()  # 实例化高斯混合模型\n",
    "print(\"gesture init\")"
   ]
  },
  {
   "cell_type": "code",
   "execution_count": 6,
   "metadata": {},
   "outputs": [
    {
     "name": "stdout",
     "output_type": "stream",
     "text": [
      "capture device is open: True\n"
     ]
    }
   ],
   "source": [
    "# HDMI & 视频模块\n",
    "Mode = VideoMode(640,480,24)\n",
    "hdmi_out = base.video.hdmi_out\n",
    "hdmi_out.configure(Mode,PIXEL_BGR)\n",
    "hdmi_out.start()\n",
    "\n",
    "frame_out_w = 640\n",
    "frame_out_h = 480\n",
    "\n",
    "frame_in_w = 640\n",
    "frame_in_h = 480\n",
    "\n",
    "cap = cv2.VideoCapture(0)\n",
    "cap.set(cv2.CAP_PROP_FRAME_WIDTH, frame_in_w)\n",
    "cap.set(cv2.CAP_PROP_FRAME_HEIGHT, frame_in_h)\n",
    "minW = 0.1 * cap.get(3)\n",
    "minH = 0.1 * cap.get(4)\n",
    "print(\"capture device is open: \" + str(cap.isOpened()))"
   ]
  },
  {
   "cell_type": "code",
   "execution_count": 7,
   "metadata": {
    "scrolled": true
   },
   "outputs": [
    {
     "name": "stdout",
     "output_type": "stream",
     "text": [
      "begin\n",
      "2 73.28347671646438\n",
      "2 64.0548472557951\n",
      "2 72.6210948146706\n",
      "2 65.49762063569257\n",
      "2 61.04111606430224\n",
      "2 65.3873692635379\n",
      "2 54.05675705720954\n",
      "2 57.4931296647121\n",
      "2 55.771595566111266\n",
      "2 56.87349237910585\n",
      "unknown\n",
      "摔倒了\n",
      "摔倒了\n",
      "摔倒了\n",
      "摔倒了\n",
      "摔倒了\n",
      "摔倒了\n",
      "摔倒了\n",
      "摔倒了\n",
      "摔倒了\n",
      "摔倒了\n",
      "摔倒了\n",
      "摔倒了\n",
      "摔倒了\n",
      "摔倒了\n",
      "摔倒了\n",
      "摔倒了\n",
      "摔倒了\n",
      "摔倒了\n",
      "摔倒了\n",
      "摔倒了\n",
      "摔倒了\n",
      "摔倒了\n",
      "摔倒了\n",
      "摔倒了\n",
      "摔倒了\n",
      "摔倒了\n",
      "摔倒了\n",
      "摔倒了\n",
      "摔倒了\n",
      "摔倒了\n",
      "摔倒了\n",
      "摔倒了\n",
      "摔倒了\n",
      "摔倒了\n",
      "摔倒了\n",
      "摔倒了\n",
      "摔倒了\n",
      "摔倒了\n",
      "摔倒了\n",
      "摔倒了\n",
      "摔倒了\n",
      "摔倒了\n",
      "摔倒了\n",
      "摔倒了\n",
      "摔倒了\n",
      "摔倒了\n",
      "摔倒了\n",
      "摔倒了\n",
      "摔倒了\n",
      "摔倒了\n",
      "摔倒了\n",
      "摔倒了\n",
      "摔倒了\n",
      "摔倒了\n",
      "摔倒了\n",
      "摔倒了\n",
      "摔倒了\n",
      "摔倒了\n",
      "摔倒了\n",
      "摔倒了\n",
      "摔倒了\n",
      "摔倒了\n",
      "摔倒了\n",
      "摔倒了\n",
      "摔倒了\n",
      "摔倒了\n",
      "摔倒了\n",
      "摔倒了\n",
      "摔倒了\n",
      "摔倒了\n",
      "摔倒了\n",
      "摔倒了\n",
      "摔倒了\n",
      "摔倒了\n",
      "摔倒了\n",
      "摔倒了\n",
      "摔倒了\n",
      "摔倒了\n",
      "摔倒了\n",
      "摔倒了\n",
      "摔倒了\n",
      "摔倒了\n",
      "摔倒了\n",
      "摔倒了\n",
      "摔倒了\n",
      "摔倒了\n",
      "摔倒了\n",
      "摔倒了\n",
      "摔倒了\n",
      "摔倒了\n",
      "摔倒了\n",
      "摔倒了\n",
      "摔倒了\n",
      "摔倒了\n",
      "摔倒了\n",
      "摔倒了\n",
      "摔倒了\n",
      "摔倒了\n",
      "摔倒了\n",
      "摔倒了\n",
      "摔倒了\n",
      "摔倒了\n",
      "摔倒了\n",
      "摔倒了\n",
      "摔倒了\n",
      "摔倒了\n",
      "摔倒了\n",
      "摔倒了\n",
      "摔倒了\n",
      "摔倒了\n",
      "摔倒了\n",
      "摔倒了\n",
      "摔倒了\n",
      "摔倒了\n",
      "摔倒了\n",
      "摔倒了\n",
      "摔倒了\n",
      "摔倒了\n",
      "摔倒了\n",
      "摔倒了\n",
      "摔倒了\n",
      "摔倒了\n",
      "摔倒了\n",
      "close window\n",
      "video over\n"
     ]
    }
   ],
   "source": [
    "cap.read()\n",
    "cap.read()\n",
    "cap.read()\n",
    "cap.read()\n",
    "cap.read()\n",
    "print(\"begin\")\n",
    "\n",
    "while True:\n",
    "    ret, frame = cap.read()\n",
    "    \n",
    "    if sw0.read() == 0:\n",
    "         # 识别人脸\n",
    "        gray = cv2.cvtColor(frame, cv2.COLOR_BGR2GRAY)\n",
    "        faces = face_cascade.detectMultiScale(gray,\n",
    "                                              scaleFactor=1.2,\n",
    "                                              minNeighbors=5,\n",
    "                                              minSize=(int(minW), int(minH)))\n",
    "        if faces is not None:\n",
    "\n",
    "            # 进行校验\n",
    "            for (x, y, w, h) in faces:\n",
    "                if count1 < 10:\n",
    "                    count1 = count1 + 1\n",
    "                count = count + 1\n",
    "                idnum, confidence = recognizer.predict(gray[y:y + h, x:x + w])\n",
    "                print(idnum, confidence)\n",
    "    #             plt.imshow(frame)\n",
    "    #             plt.show()\n",
    "                if confidence < 40:\n",
    "    #                 print(\"jwj\")\n",
    "                    p[0] = p[0] + 1\n",
    "                else:\n",
    "                    p[1] = p[1] + 1\n",
    "\n",
    "        if count1 < 10:\n",
    "            continue\n",
    "    #     print(\"we start to detect the face\")\n",
    "        if count >= 5:\n",
    "            if p[0] == 0 and p[1] == 0:\n",
    "                continue\n",
    "            elif p[0] != 0:\n",
    "                print(\"known\")\n",
    "                base.rgbleds[4].write(1)\n",
    "                base.rgbleds[5].write(1)\n",
    "                audio_play('known') \n",
    "            else:\n",
    "                print(\"unknown\")\n",
    "                base.rgbleds[4].write(6)\n",
    "                base.rgbleds[5].write(6)\n",
    "                audio_play('unknown') \n",
    "            p[0] = 0\n",
    "            p[1] = 0\n",
    "            count = 0\n",
    "    if sw0.read() == 1:\n",
    "        blurred = cv2.GaussianBlur(frame, (3, 3), 0)  # 高斯滤波\n",
    "        gray = cv2.cvtColor(blurred, cv2.COLOR_RGB2GRAY)  # 灰度图\n",
    "        xgrad = cv2.Sobel(gray, cv2.CV_16SC1, 1, 0)  # x方向梯度\n",
    "        ygrad = cv2.Sobel(gray, cv2.CV_16SC1, 0, 1)  # y方向梯度\n",
    "        edge_output = cv2.Canny(xgrad, ygrad, 50, 150)  # canny 边缘检测\n",
    "        fgmask = fg.apply(edge_output)  # 使用高斯混合模型，背景减除\n",
    "        \n",
    "        # 闭运算\n",
    "        hline = cv2.getStructuringElement(cv2.MORPH_RECT, (1, 4),\n",
    "                                          (-1, -1))  # 定义结构元素，卷积核\n",
    "        vline = cv2.getStructuringElement(cv2.MORPH_RECT, (4, 1), (-1, -1))\n",
    "        result = cv2.morphologyEx(fgmask, cv2.MORPH_CLOSE, hline)  # 水平方向\n",
    "        result = cv2.morphologyEx(result, cv2.MORPH_CLOSE, vline)  # 垂直方向\n",
    "        dilateim = cv2.dilate(result,\n",
    "                              cv2.getStructuringElement(cv2.MORPH_ELLIPSE, (4, 4)),\n",
    "                              iterations=1)  # 使边缘膨胀\n",
    "        frame, contours, hierarchy  = cv2.findContours(dilateim, cv2.RETR_EXTERNAL,\n",
    "                                          cv2.CHAIN_APPROX_NONE)  # 查找轮廓\n",
    "\n",
    "        for c in contours:\n",
    "            if cv2.contourArea(c) > 10000:\n",
    "                (x, y, w, h) = cv2.boundingRect(c)\n",
    "                scale = w / h\n",
    "\n",
    "        # 根据比例判断， 首先人不能离摄像头太近，其次可以打印scale来调参\n",
    "        if scale > 2:\n",
    "            print(\"摔倒了\")\n",
    "#             加语音播放“危险”\n",
    "        else:\n",
    "            print(\"行走中\")\n",
    "        \n",
    "    cv2.waitKey(1)      \n",
    "        \n",
    "    # switches开关\n",
    "    if sw1.read() == 1:\n",
    "        print(\"close window\")\n",
    "        break\n",
    "        \n",
    "    \n",
    "\n",
    "    \n",
    "\n",
    "base.rgbleds[4].write(0)\n",
    "base.rgbleds[5].write(0)\n",
    "cv2.waitKey(1)\n",
    "cap.release()\n",
    "print(\"video over\")"
   ]
  },
  {
   "cell_type": "markdown",
   "metadata": {},
   "source": [
    "#### HDMI 输出部分\n",
    "outframe = hdmi_out.newframe()\n",
    "outframe[:] = frame\n",
    "hdmi_out.writeframe(outframe)"
   ]
  },
  {
   "cell_type": "code",
   "execution_count": null,
   "metadata": {},
   "outputs": [],
   "source": []
  }
 ],
 "metadata": {
  "kernelspec": {
   "display_name": "Python 3",
   "language": "python",
   "name": "python3"
  },
  "language_info": {
   "codemirror_mode": {
    "name": "ipython",
    "version": 3
   },
   "file_extension": ".py",
   "mimetype": "text/x-python",
   "name": "python",
   "nbconvert_exporter": "python",
   "pygments_lexer": "ipython3",
   "version": "3.6.5"
  }
 },
 "nbformat": 4,
 "nbformat_minor": 2
}
