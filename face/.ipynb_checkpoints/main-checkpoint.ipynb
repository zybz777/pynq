{
 "cells": [
  {
   "cell_type": "code",
   "execution_count": 5,
   "metadata": {},
   "outputs": [
    {
     "name": "stdout",
     "output_type": "stream",
     "text": [
      "overlay init\n"
     ]
    }
   ],
   "source": [
    "from pynq.overlays.base import BaseOverlay\n",
    "from pynq.lib.video import *\n",
    "import matplotlib.pyplot as plt\n",
    "import cv2\n",
    "import numpy as np      \n",
    "\n",
    "base = BaseOverlay(\"base.bit\")\n",
    "\n",
    "print(\"overlay init\")"
   ]
  },
  {
   "cell_type": "code",
   "execution_count": 6,
   "metadata": {},
   "outputs": [
    {
     "name": "stdout",
     "output_type": "stream",
     "text": [
      "buttons init\n"
     ]
    }
   ],
   "source": [
    "# buttons & switches & leds模块\n",
    "sw0 = base.switches[0]\n",
    "sw1 = base.switches[1]\n",
    "print(\"buttons init\")"
   ]
  },
  {
   "cell_type": "code",
   "execution_count": 7,
   "metadata": {
    "scrolled": true
   },
   "outputs": [],
   "source": [
    "# 语音模块\n",
    "# pAudio = base.audio \n",
    "# pAudio.select_microphone()\n",
    "\n",
    "# def audio_play1() :\n",
    "    #  pAudio.load(\"/home/xilinx/jupyter_notebooks/face/audio/warning1.wav\")\n",
    "    #  pAudio.play()\n",
    "    \n",
    "# print(\"audio init\")\n",
    "# audio_play1() "
   ]
  },
  {
   "cell_type": "code",
   "execution_count": 8,
   "metadata": {},
   "outputs": [
    {
     "name": "stdout",
     "output_type": "stream",
     "text": [
      "init success1\n",
      "init success2\n",
      "init success3\n",
      "init success4\n"
     ]
    }
   ],
   "source": [
    "# 识别模块\n",
    "print(\"init success1\")\n",
    "recognizer = cv2.face.createLBPHFaceRecognizer()\n",
    "print(\"init success2\")\n",
    "recognizer.load(\n",
    "    '/home/xilinx/jupyter_notebooks/face/'\n",
    "    'trainner.yml')\n",
    "print(\"init success3\")\n",
    "face_cascade = cv2.CascadeClassifier(\n",
    "    '/home/xilinx/jupyter_notebooks/face/'\n",
    "    'haarcascade_frontalface_alt.xml')\n",
    "\n",
    "idnum = 0\n",
    "justify = [0, 0]\n",
    "count = 0\n",
    "# 设置好与ID号码对应的用户名，如下，如0对应的就是初始\n",
    "\n",
    "names = ['初始', 'zyb', 'jwj', 'user2', 'user3']\n",
    "print(\"init success4\")"
   ]
  },
  {
   "cell_type": "code",
   "execution_count": 9,
   "metadata": {},
   "outputs": [
    {
     "name": "stdout",
     "output_type": "stream",
     "text": [
      "capture device is open: True\n"
     ]
    }
   ],
   "source": [
    "# HDMI & 视频模块\n",
    "Mode = VideoMode(640,480,24)\n",
    "hdmi_out = base.video.hdmi_out\n",
    "hdmi_out.configure(Mode,PIXEL_BGR)\n",
    "hdmi_out.start()\n",
    "\n",
    "# monitor (output) frame buffer size\n",
    "frame_out_w = 640\n",
    "frame_out_h = 480\n",
    "# camera (input) configuration\n",
    "frame_in_w = 640\n",
    "frame_in_h = 480\n",
    "\n",
    "cap = cv2.VideoCapture(0)\n",
    "cap.set(cv2.CAP_PROP_FRAME_WIDTH, frame_in_w)\n",
    "cap.set(cv2.CAP_PROP_FRAME_HEIGHT, frame_in_h)\n",
    "minW = 0.1 * cap.get(3)\n",
    "minH = 0.1 * cap.get(4)\n",
    "print(\"capture device is open: \" + str(cap.isOpened()))"
   ]
  },
  {
   "cell_type": "code",
   "execution_count": null,
   "metadata": {},
   "outputs": [
    {
     "name": "stdout",
     "output_type": "stream",
     "text": [
      "unknown\n",
      "unknown\n",
      "unknown\n",
      "unknown\n",
      "unknown\n",
      "unknown\n",
      "close window\n",
      "video over\n"
     ]
    }
   ],
   "source": [
    "cap.read()\n",
    "cap.read()\n",
    "cap.read()\n",
    "cap.read()\n",
    "cap.read()\n",
    "while True:\n",
    "    ret, frame = cap.read()\n",
    "     # 识别人脸\n",
    "    gray = cv2.cvtColor(frame, cv2.COLOR_BGR2GRAY)\n",
    "    faces = face_cascade.detectMultiScale(gray,\n",
    "                                          scaleFactor=1.2,\n",
    "                                          minNeighbors=5,\n",
    "                                          minSize=(int(minW), int(minH)))\n",
    "    if faces is not None:\n",
    "        count = count + 1\n",
    "        # 进行校验\n",
    "        for (x, y, w, h) in faces:\n",
    "            idnum, confidence = recognizer.predict(gray[y:y + h, x:x + w])\n",
    "            if idnum == 1 and confidence < 48:\n",
    "#                 justify[0] += 1\n",
    "                print(format(confidence))\n",
    "            elif idnum == 2 and confidence < 50:\n",
    "#                 justify[0] += 1\n",
    "            else:\n",
    "#                 justify[1] += 1\n",
    "    \"\"\"\n",
    "    if count > 5:\n",
    "        if justify[0] == 0 and justify[1] == 0:\n",
    "            continue\n",
    "        elif justify[0] > justify[1]:\n",
    "            print(\"known\")\n",
    "        else:\n",
    "            print(\"unknown\")\n",
    "        justify[0] = 0\n",
    "        justify[1] = 0\n",
    "        count = 0\n",
    "    \"\"\"\n",
    "    # 展示结果\n",
    "    #cv2.imshow('camera', img)\n",
    "    #plt.imshow(frame[:,:,[2,1,0]])\n",
    "    #plt.show()\n",
    "    #print(\"3\")\n",
    "    cv2.waitKey(1)      \n",
    "        \n",
    "    # switches开关\n",
    "    if sw0.read() == 1:\n",
    "        audio_play1()\n",
    "        print(\"audio play\")\n",
    "    if sw1.read() == 1:\n",
    "        print(\"close window\")\n",
    "        break\n",
    "    \n",
    "    \n",
    "print(\"video over\")\n",
    "cv2.waitKey(1)\n",
    "cap.release()\n",
    "hdmi_out.stop()\n",
    "hdmi_out.close()\n",
    "del hdmi_out"
   ]
  },
  {
   "cell_type": "code",
   "execution_count": null,
   "metadata": {},
   "outputs": [],
   "source": [
    "# HDMI 输出部分\n",
    "outframe = hdmi_out.newframe()\n",
    "outframe[:] = frame\n",
    "hdmi_out.writeframe(outframe)"
   ]
  },
  {
   "cell_type": "code",
   "execution_count": null,
   "metadata": {},
   "outputs": [],
   "source": []
  }
 ],
 "metadata": {
  "kernelspec": {
   "display_name": "Python 3",
   "language": "python",
   "name": "python3"
  },
  "language_info": {
   "codemirror_mode": {
    "name": "ipython",
    "version": 3
   },
   "file_extension": ".py",
   "mimetype": "text/x-python",
   "name": "python",
   "nbconvert_exporter": "python",
   "pygments_lexer": "ipython3",
   "version": "3.6.5"
  }
 },
 "nbformat": 4,
 "nbformat_minor": 2
}
