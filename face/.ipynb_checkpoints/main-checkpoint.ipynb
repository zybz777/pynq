{
 "cells": [
  {
   "cell_type": "code",
   "execution_count": 1,
   "metadata": {},
   "outputs": [
    {
     "data": {
      "application/javascript": [
       "\n",
       "require(['notebook/js/codecell'], function(codecell) {\n",
       "  codecell.CodeCell.options_default.highlight_modes[\n",
       "      'magic_text/x-csrc'] = {'reg':[/^%%microblaze/]};\n",
       "  Jupyter.notebook.events.one('kernel_ready.Kernel', function(){\n",
       "      Jupyter.notebook.get_cells().map(function(cell){\n",
       "          if (cell.cell_type == 'code'){ cell.auto_highlight(); } }) ;\n",
       "  });\n",
       "});\n"
      ]
     },
     "metadata": {},
     "output_type": "display_data"
    },
    {
     "ename": "NameError",
     "evalue": "name 'BaseOverlay' is not defined",
     "output_type": "error",
     "traceback": [
      "\u001b[0;31m---------------------------------------------------------------------------\u001b[0m",
      "\u001b[0;31mNameError\u001b[0m                                 Traceback (most recent call last)",
      "\u001b[0;32m<ipython-input-1-914019bec8cf>\u001b[0m in \u001b[0;36m<module>\u001b[0;34m()\u001b[0m\n\u001b[1;32m      6\u001b[0m \u001b[0;32mfrom\u001b[0m \u001b[0mtime\u001b[0m \u001b[0;32mimport\u001b[0m \u001b[0msleep\u001b[0m\u001b[0;34m\u001b[0m\u001b[0m\n\u001b[1;32m      7\u001b[0m \u001b[0;34m\u001b[0m\u001b[0m\n\u001b[0;32m----> 8\u001b[0;31m \u001b[0mbase\u001b[0m \u001b[0;34m=\u001b[0m \u001b[0mBaseOverlay\u001b[0m\u001b[0;34m(\u001b[0m\u001b[0;34m\"base.bit\"\u001b[0m\u001b[0;34m)\u001b[0m\u001b[0;34m\u001b[0m\u001b[0m\n\u001b[0m\u001b[1;32m      9\u001b[0m \u001b[0;34m\u001b[0m\u001b[0m\n\u001b[1;32m     10\u001b[0m \u001b[0mprint\u001b[0m\u001b[0;34m(\u001b[0m\u001b[0;34m\"overlay init\"\u001b[0m\u001b[0;34m)\u001b[0m\u001b[0;34m\u001b[0m\u001b[0m\n",
      "\u001b[0;31mNameError\u001b[0m: name 'BaseOverlay' is not defined"
     ]
    }
   ],
   "source": [
    "from pynq.overlays.base import BaseOverlay\n",
    "from pynq.lib.video import *\n",
    "import matplotlib.pyplot as plt\n",
    "import cv2\n",
    "import numpy as np      \n",
    "from time import sleep\n",
    "\n",
    "base = BaseOverlay(\"base.bit\")\n",
    "\n",
    "print(\"overlay init\")"
   ]
  },
  {
   "cell_type": "code",
   "execution_count": 19,
   "metadata": {},
   "outputs": [
    {
     "name": "stdout",
     "output_type": "stream",
     "text": [
      "buttons init\n"
     ]
    }
   ],
   "source": [
    "# buttons & switches & leds模块\n",
    "sw0 = base.switches[0]\n",
    "sw1 = base.switches[1]\n",
    "rgbled_position = [4,5] \n",
    "print(\"buttons init\")"
   ]
  },
  {
   "cell_type": "code",
   "execution_count": 20,
   "metadata": {
    "scrolled": true
   },
   "outputs": [],
   "source": [
    "# 语音模块\n",
    "# pAudio = base.audio \n",
    "# pAudio.select_microphone()\n",
    "\n",
    "# def audio_play1() :\n",
    "    #  pAudio.load(\"/home/xilinx/jupyter_notebooks/face/audio/warning1.wav\")\n",
    "    #  pAudio.play()\n",
    "    \n",
    "# print(\"audio init\")\n",
    "# audio_play1() "
   ]
  },
  {
   "cell_type": "code",
   "execution_count": 21,
   "metadata": {},
   "outputs": [
    {
     "name": "stdout",
     "output_type": "stream",
     "text": [
      "init success1\n",
      "init success2\n",
      "init success3\n",
      "init success4\n"
     ]
    }
   ],
   "source": [
    "# 识别模块\n",
    "print(\"init success1\")\n",
    "recognizer = cv2.face.createLBPHFaceRecognizer()\n",
    "print(\"init success2\")\n",
    "recognizer.load(\n",
    "    '/home/xilinx/jupyter_notebooks/face/'\n",
    "    'trainner.yml')\n",
    "print(\"init success3\")\n",
    "face_cascade = cv2.CascadeClassifier(\n",
    "    '/home/xilinx/jupyter_notebooks/face/'\n",
    "    'haarcascade_frontalface_alt.xml')\n",
    "\n",
    "idnum = 0\n",
    "justify = [0, 0]\n",
    "count = 0\n",
    "# 设置好与ID号码对应的用户名，如下，如0对应的就是初始\n",
    "\n",
    "names = ['初始', 'zyb', 'jwj', 'user2', 'user3']\n",
    "print(\"init success4\")"
   ]
  },
  {
   "cell_type": "code",
   "execution_count": null,
   "metadata": {},
   "outputs": [],
   "source": [
    "# HDMI & 视频模块\n",
    "Mode = VideoMode(640,480,24)\n",
    "hdmi_out = base.video.hdmi_out\n",
    "hdmi_out.configure(Mode,PIXEL_BGR)\n",
    "hdmi_out.start()\n",
    "\n",
    "# monitor (output) frame buffer size\n",
    "frame_out_w = 640\n",
    "frame_out_h = 480\n",
    "# camera (input) configuration\n",
    "frame_in_w = 640\n",
    "frame_in_h = 480\n",
    "\n",
    "cap = cv2.VideoCapture(0)\n",
    "cap.set(cv2.CAP_PROP_FRAME_WIDTH, frame_in_w)\n",
    "cap.set(cv2.CAP_PROP_FRAME_HEIGHT, frame_in_h)\n",
    "minW = 0.1 * cap.get(3)\n",
    "minH = 0.1 * cap.get(4)\n",
    "print(\"capture device is open: \" + str(cap.isOpened()))"
   ]
  },
  {
   "cell_type": "code",
   "execution_count": 23,
   "metadata": {
    "scrolled": false
   },
   "outputs": [
    {
     "name": "stdout",
     "output_type": "stream",
     "text": [
      "begin\n",
      "unknown\n",
      "unknown\n",
      "unknown\n",
      "unknown\n",
      "unknown\n",
      "unknown\n",
      "unknown\n",
      "unknown\n",
      "unknown\n",
      "jwj\n",
      "jwj\n",
      "jwj\n",
      "jwj\n",
      "jwj\n",
      "unknown\n",
      "unknown\n",
      "unknown\n",
      "jwj\n",
      "unknown\n",
      "jwj\n",
      "jwj\n",
      "jwj\n",
      "jwj\n",
      "unknown\n",
      "jwj\n",
      "unknown\n",
      "unknown\n",
      "unknown\n",
      "unknown\n",
      "jwj\n",
      "unknown\n",
      "unknown\n",
      "close window\n",
      "video over\n"
     ]
    }
   ],
   "source": [
    "cap.read()\n",
    "cap.read()\n",
    "cap.read()\n",
    "cap.read()\n",
    "cap.read()\n",
    "print(\"begin\")\n",
    "p = [0,0]\n",
    "while True:\n",
    "    ret, frame = cap.read()\n",
    "     # 识别人脸\n",
    "    gray = cv2.cvtColor(frame, cv2.COLOR_BGR2GRAY)\n",
    "    faces = face_cascade.detectMultiScale(gray,\n",
    "                                          scaleFactor=1.2,\n",
    "                                          minNeighbors=5,\n",
    "                                          minSize=(int(minW), int(minH)))\n",
    "    if faces is not None:\n",
    "        \n",
    "        # 进行校验\n",
    "        for (x, y, w, h) in faces:\n",
    "            count = count + 1\n",
    "            idnum, confidence = recognizer.predict(gray[y:y + h, x:x + w])\n",
    "#             print(idnum, confidence)\n",
    "            if confidence < 40:\n",
    "#                 print(\"jwj\")\n",
    "                p[0] = p[0]+ 1\n",
    "            else:\n",
    "                p[1] = p[1] + 1\n",
    "#                 print(\"unknown\")\n",
    "                 \n",
    "#             print({idnum, confidence})\n",
    "#             print('111')\n",
    "#             if idnum == 1:\n",
    "#                justify[0] += 1\n",
    "#                print(format(confidence))\n",
    "#             elif idnum == 2 and confidence < 50:\n",
    "#                 justify[0] += 1\n",
    "#             else:\n",
    "#                 justify[1] += 1\n",
    "#     print(p)\n",
    "    if count >= 5:\n",
    "        if p[0] == 0 and p[1] == 0:\n",
    "            continue\n",
    "        elif p[0] != 0:\n",
    "            print(\"jwj\")\n",
    "            base.rgbleds[4].write(1)\n",
    "            base.rgbleds[5].write(1)\n",
    "        else:\n",
    "            print(\"unknown\")\n",
    "            base.rgbleds[4].write(6)\n",
    "            base.rgbleds[5].write(6)\n",
    "        p[0] = 0\n",
    "        p[1] = 0\n",
    "        count = 0\n",
    "\n",
    "    # 展示结果\n",
    "    #cv2.imshow('camera', img)\n",
    "    #plt.imshow(frame[:,:,[2,1,0]])\n",
    "    #plt.show()\n",
    "    #print(\"3\")\n",
    "    cv2.waitKey(1)      \n",
    "        \n",
    "    # switches开关\n",
    "    if sw0.read() == 1:\n",
    "        audio_play1()\n",
    "        print(\"audio play\")\n",
    "    if sw1.read() == 1:\n",
    "        print(\"close window\")\n",
    "        break\n",
    "        \n",
    "    \n",
    "\n",
    "    \n",
    "print(\"video over\")\n",
    "base.rgbleds[4].write(0)\n",
    "base.rgbleds[5].write(0)\n",
    "cv2.waitKey(1)\n",
    "cap.release()\n",
    "hdmi_out.stop()\n",
    "hdmi_out.close()\n",
    "del hdmi_out"
   ]
  },
  {
   "cell_type": "markdown",
   "metadata": {},
   "source": [
    "# HDMI 输出部分\n",
    "outframe = hdmi_out.newframe()\n",
    "outframe[:] = frame\n",
    "hdmi_out.writeframe(outframe)"
   ]
  },
  {
   "cell_type": "code",
   "execution_count": null,
   "metadata": {},
   "outputs": [],
   "source": []
  }
 ],
 "metadata": {
  "kernelspec": {
   "display_name": "Python 3",
   "language": "python",
   "name": "python3"
  }
 },
 "nbformat": 4,
 "nbformat_minor": 2
}
