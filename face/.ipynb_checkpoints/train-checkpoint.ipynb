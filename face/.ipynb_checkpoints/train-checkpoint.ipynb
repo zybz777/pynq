{
 "cells": [
  {
   "cell_type": "code",
   "execution_count": 2,
   "metadata": {},
   "outputs": [
    {
     "data": {
      "application/javascript": [
       "\n",
       "require(['notebook/js/codecell'], function(codecell) {\n",
       "  codecell.CodeCell.options_default.highlight_modes[\n",
       "      'magic_text/x-csrc'] = {'reg':[/^%%microblaze/]};\n",
       "  Jupyter.notebook.events.one('kernel_ready.Kernel', function(){\n",
       "      Jupyter.notebook.get_cells().map(function(cell){\n",
       "          if (cell.cell_type == 'code'){ cell.auto_highlight(); } }) ;\n",
       "  });\n",
       "});\n"
      ]
     },
     "metadata": {},
     "output_type": "display_data"
    },
    {
     "name": "stdout",
     "output_type": "stream",
     "text": [
      "overlay init\n"
     ]
    }
   ],
   "source": [
    "from pynq.overlays.base import BaseOverlay\n",
    "from pynq.lib.video import *\n",
    "import matplotlib.pyplot as plt\n",
    "import cv2\n",
    "import numpy as np      \n",
    "import os\n",
    "from PIL import Image\n",
    "\n",
    "base = BaseOverlay(\"base.bit\")\n",
    "\n",
    "print(\"overlay init\")"
   ]
  },
  {
   "cell_type": "code",
   "execution_count": 3,
   "metadata": {},
   "outputs": [
    {
     "name": "stdout",
     "output_type": "stream",
     "text": [
      "Training...\n",
      "Training finished...\n"
     ]
    }
   ],
   "source": [
    "# -----建立模型、创建数据集-----#-----建立模型、创建数据集-----\n",
    "\n",
    "# 导入pillow库，用于处理图像\n",
    "# 设置之前收集好的数据文件路径\n",
    "path = '/home/xilinx/jupyter_notebooks/face/data/'\n",
    "\n",
    "# 初始化识别的方法\n",
    "recog = cv2.face.createLBPHFaceRecognizer()\n",
    "\n",
    "# 调用熟悉的人脸分类器\n",
    "detector = cv2.CascadeClassifier(\n",
    "    '/home/xilinx/jupyter_notebooks/face/'\n",
    "    'haarcascade_frontalface_alt.xml')\n",
    "\n",
    "\n",
    "# 创建一个函数，用于从数据集文件夹中获取训练图片,并获取id\n",
    "# 注意图片的命名格式为User.id.sampleNum\n",
    "def get_images_and_labels(path):\n",
    "    image_paths = [os.path.join(path, f) for f in os.listdir(path)]\n",
    "    # 新建连个list用于存放\n",
    "    face_samples = []\n",
    "    ids = []\n",
    "\n",
    "    # 遍历图片路径，导入图片和id添加到list中\n",
    "    for image_path in image_paths:\n",
    "\n",
    "        # 通过图片路径将其转换为灰度图片\n",
    "        img = Image.open(image_path).convert('L')\n",
    "\n",
    "        # 将图片转化为数组\n",
    "        img_np = np.array(img, 'uint8')\n",
    "\n",
    "        if os.path.split(image_path)[-1].split(\".\")[-1] != 'jpg':\n",
    "            continue\n",
    "\n",
    "        # 为了获取id，将图片和路径分裂并获取\n",
    "        id = int(os.path.split(image_path)[-1].split(\".\")[1])\n",
    "        faces = detector.detectMultiScale(img_np)\n",
    "\n",
    "        # 将获取的图片和id添加到list中\n",
    "        for (x, y, w, h) in faces:\n",
    "            face_samples.append(img_np[y:y + h, x:x + w])\n",
    "            ids.append(id)\n",
    "    return face_samples, ids\n",
    "\n",
    "\n",
    "# 调用函数并将数据喂给识别器训练\n",
    "print('Training...')\n",
    "faces, ids = get_images_and_labels(path)\n",
    "# 训练模型\n",
    "recog.train(faces, np.array(ids))\n",
    "# 保存模型\n",
    "recog.save( '/home/xilinx/jupyter_notebooks/face/'\n",
    "    'trainner.yml')\n",
    "print(\"Training finished...\")\n"
   ]
  },
  {
   "cell_type": "code",
   "execution_count": null,
   "metadata": {},
   "outputs": [],
   "source": []
  }
 ],
 "metadata": {
  "kernelspec": {
   "display_name": "Python 3",
   "language": "python",
   "name": "python3"
  },
  "language_info": {
   "codemirror_mode": {
    "name": "ipython",
    "version": 3
   },
   "file_extension": ".py",
   "mimetype": "text/x-python",
   "name": "python",
   "nbconvert_exporter": "python",
   "pygments_lexer": "ipython3",
   "version": "3.6.5"
  }
 },
 "nbformat": 4,
 "nbformat_minor": 2
}
