{
 "cells": [
  {
   "cell_type": "code",
   "execution_count": 5,
   "metadata": {},
   "outputs": [
    {
     "name": "stdout",
     "output_type": "stream",
     "text": [
      "overlay init\n"
     ]
    }
   ],
   "source": [
    "from pynq.overlays.base import BaseOverlay\n",
    "from pynq.lib.video import *\n",
    "import matplotlib.pyplot as plt\n",
    "import cv2\n",
    "import numpy as np      \n",
    "\n",
    "base = BaseOverlay(\"base.bit\")\n",
    "\n",
    "print(\"overlay init\")"
   ]
  },
  {
   "cell_type": "code",
   "execution_count": 6,
   "metadata": {},
   "outputs": [
    {
     "name": "stdout",
     "output_type": "stream",
     "text": [
      "buttons init\n"
     ]
    }
   ],
   "source": [
    "# buttons & switches & leds模块\n",
    "sw0 = base.switches[0]\n",
    "sw1 = base.switches[1]\n",
    "print(\"buttons init\")"
   ]
  },
  {
   "cell_type": "code",
   "execution_count": 7,
   "metadata": {
    "scrolled": true
   },
   "outputs": [],
   "source": [
    "# 语音模块\n",
    "# pAudio = base.audio \n",
    "# pAudio.select_microphone()\n",
    "\n",
    "# def audio_play1() :\n",
    "    #  pAudio.load(\"/home/xilinx/jupyter_notebooks/face/audio/warning1.wav\")\n",
    "    #  pAudio.play()\n",
    "    \n",
    "# print(\"audio init\")\n",
    "# audio_play1() "
   ]
  },
  {
   "cell_type": "code",
   "execution_count": 8,
   "metadata": {},
   "outputs": [
    {
     "name": "stdout",
     "output_type": "stream",
     "text": [
      "init success1\n",
      "init success2\n",
      "init success3\n",
      "init success4\n"
     ]
    }
   ],
   "source": [
    "# 识别模块\n",
    "print(\"init success1\")\n",
    "recognizer = cv2.face.createLBPHFaceRecognizer()\n",
    "print(\"init success2\")\n",
    "recognizer.load(\n",
    "    '/home/xilinx/jupyter_notebooks/face/'\n",
    "    'trainner.yml')\n",
    "print(\"init success3\")\n",
    "face_cascade = cv2.CascadeClassifier(\n",
    "    '/home/xilinx/jupyter_notebooks/face/'\n",
    "    'haarcascade_frontalface_alt.xml')\n",
    "\n",
    "idnum = 0\n",
    "justify = [0, 0]\n",
    "count = 0\n",
    "# 设置好与ID号码对应的用户名，如下，如0对应的就是初始\n",
    "\n",
    "names = ['初始', 'zyb', 'jwj', 'user2', 'user3']\n",
    "print(\"init success4\")"
   ]
  },
  {
   "cell_type": "code",
   "execution_count": 14,
   "metadata": {},
   "outputs": [
    {
     "name": "stdout",
     "output_type": "stream",
     "text": [
      "capture device is open: True\n"
     ]
    }
   ],
   "source": [
    "# HDMI & 视频模块\n",
    "Mode = VideoMode(640,480,24)\n",
    "hdmi_out = base.video.hdmi_out\n",
    "hdmi_out.configure(Mode,PIXEL_BGR)\n",
    "hdmi_out.start()\n",
    "\n",
    "# monitor (output) frame buffer size\n",
    "frame_out_w = 640\n",
    "frame_out_h = 480\n",
    "# camera (input) configuration\n",
    "frame_in_w = 640\n",
    "frame_in_h = 480\n",
    "\n",
    "cap = cv2.VideoCapture(0)\n",
    "cap.set(cv2.CAP_PROP_FRAME_WIDTH, frame_in_w)\n",
    "cap.set(cv2.CAP_PROP_FRAME_HEIGHT, frame_in_h)\n",
    "minW = 0.1 * cap.get(3)\n",
    "minH = 0.1 * cap.get(4)\n",
    "print(\"capture device is open: \" + str(cap.isOpened()))"
   ]
  },
  {
   "cell_type": "code",
   "execution_count": null,
   "metadata": {},
   "outputs": [
    {
     "name": "stdout",
     "output_type": "stream",
     "text": [
      "begin\n",
      "57.96679695622904\n",
      "54.56899441847833\n",
      "59.031241232662126\n",
      "54.314760176272266\n",
      "49.4847203530593\n",
      "52.00494669905072\n",
      "50.57349620167834\n",
      "49.35101689431354\n",
      "48.55789513424137\n",
      "52.955444191627635\n",
      "48.62799156948864\n",
      "54.879984740922794\n",
      "54.80751755011227\n",
      "52.751239113177846\n",
      "51.00818796799561\n",
      "55.71723241452133\n",
      "47.11145899607403\n",
      "52.16066961063039\n",
      "56.11579994606278\n",
      "53.56309633261901\n",
      "50.83417037224428\n",
      "52.33671273061888\n",
      "48.041223056370555\n",
      "50.416662570036294\n",
      "55.8700420004313\n",
      "61.16110775137048\n",
      "68.1455683909741\n",
      "56.25790801667335\n",
      "47.887562091250814\n",
      "47.56289572191395\n",
      "46.19611695310347\n",
      "47.35268377438647\n",
      "44.83505969932979\n",
      "48.684807414930994\n",
      "49.66884434746559\n",
      "51.96451099484319\n",
      "48.28722288417405\n",
      "47.39043635856372\n",
      "47.81102959692522\n",
      "49.06857477363798\n",
      "52.2704326094197\n",
      "48.50913928076286\n",
      "49.37107472040123\n",
      "50.32157364935541\n",
      "49.319129259422326\n",
      "49.203675118064844\n",
      "48.0147705602243\n",
      "48.239847863780625\n",
      "51.7790588733404\n",
      "48.852155502965196\n",
      "51.35717759914391\n",
      "49.8578555138019\n",
      "49.78662850816795\n",
      "49.71336153410941\n",
      "54.05885939998016\n",
      "47.602967450797024\n",
      "49.95519924344923\n",
      "49.10025165135412\n",
      "48.6164259406437\n",
      "50.53015504460607\n",
      "51.25887787717906\n",
      "78.46610886845603\n",
      "70.66285673215056\n",
      "61.062898000811366\n",
      "64.05436977355185\n",
      "65.92361864737471\n",
      "68.77294803912429\n",
      "63.63101408590893\n",
      "66.9942436260319\n",
      "51.28257484088733\n",
      "55.67332292193527\n",
      "53.66188373883339\n",
      "49.553892011625585\n",
      "48.06508397042613\n",
      "49.525147318956485\n",
      "47.191977489797985\n",
      "50.01980900743007\n",
      "54.48668226948114\n",
      "85.70614636337531\n",
      "close window\n",
      "video over\n"
     ]
    }
   ],
   "source": [
    "cap.read()\n",
    "cap.read()\n",
    "cap.read()\n",
    "cap.read()\n",
    "cap.read()\n",
    "print(\"begin\")\n",
    "while True:\n",
    "    ret, frame = cap.read()\n",
    "     # 识别人脸\n",
    "    gray = cv2.cvtColor(frame, cv2.COLOR_BGR2GRAY)\n",
    "    faces = face_cascade.detectMultiScale(gray,\n",
    "                                          scaleFactor=1.2,\n",
    "                                          minNeighbors=5,\n",
    "                                          minSize=(int(minW), int(minH)))\n",
    "    if faces is not None:\n",
    "#         count = count + 1\n",
    "        # 进行校验\n",
    "        for (x, y, w, h) in faces:\n",
    "            idnum, confidence = recognizer.predict(gray[y:y + h, x:x + w])\n",
    "            if idnum == 1:\n",
    "#                 justify[0] += 1\n",
    "                print(format(confidence))\n",
    "#             elif idnum == 2 and confidence < 50:\n",
    "#                 justify[0] += 1\n",
    "#             else:\n",
    "#                 justify[1] += 1\n",
    "    \"\"\"\n",
    "    if count > 5:\n",
    "        if justify[0] == 0 and justify[1] == 0:\n",
    "            continue\n",
    "        elif justify[0] > justify[1]:\n",
    "            print(\"known\")\n",
    "        else:\n",
    "            print(\"unknown\")\n",
    "        justify[0] = 0\n",
    "        justify[1] = 0\n",
    "        count = 0\n",
    "    \"\"\"\n",
    "    # 展示结果\n",
    "    #cv2.imshow('camera', img)\n",
    "    #plt.imshow(frame[:,:,[2,1,0]])\n",
    "    #plt.show()\n",
    "    #print(\"3\")\n",
    "    cv2.waitKey(1)      \n",
    "        \n",
    "    # switches开关\n",
    "    if sw0.read() == 1:\n",
    "        audio_play1()\n",
    "        print(\"audio play\")\n",
    "    if sw1.read() == 1:\n",
    "        print(\"close window\")\n",
    "        break\n",
    "    \n",
    "    \n",
    "print(\"video over\")\n",
    "cv2.waitKey(1)\n",
    "cap.release()\n",
    "hdmi_out.stop()\n",
    "hdmi_out.close()\n",
    "del hdmi_out"
   ]
  },
  {
   "cell_type": "code",
   "execution_count": null,
   "metadata": {},
   "outputs": [],
   "source": [
    "# HDMI 输出部分\n",
    "outframe = hdmi_out.newframe()\n",
    "outframe[:] = frame\n",
    "hdmi_out.writeframe(outframe)"
   ]
  },
  {
   "cell_type": "code",
   "execution_count": null,
   "metadata": {},
   "outputs": [],
   "source": []
  }
 ],
 "metadata": {
  "kernelspec": {
   "display_name": "Python 3",
   "language": "python",
   "name": "python3"
  },
  "language_info": {
   "codemirror_mode": {
    "name": "ipython",
    "version": 3
   },
   "file_extension": ".py",
   "mimetype": "text/x-python",
   "name": "python",
   "nbconvert_exporter": "python",
   "pygments_lexer": "ipython3",
   "version": "3.6.5"
  }
 },
 "nbformat": 4,
 "nbformat_minor": 2
}
