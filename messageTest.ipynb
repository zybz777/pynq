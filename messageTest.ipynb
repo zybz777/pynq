{
 "cells": [
  {
   "cell_type": "code",
   "execution_count": 8,
   "metadata": {},
   "outputs": [
    {
     "name": "stdout",
     "output_type": "stream",
     "text": [
      "overlay init\n"
     ]
    }
   ],
   "source": [
    "from pynq.overlays.base import BaseOverlay\n",
    "base = BaseOverlay(\"base.bit\")\n",
    "print(\"overlay init\")"
   ]
  },
  {
   "cell_type": "code",
   "execution_count": 11,
   "metadata": {},
   "outputs": [
    {
     "name": "stdout",
     "output_type": "stream",
     "text": [
      "def init\n"
     ]
    }
   ],
   "source": [
    "import json\n",
    "from tencentcloud.common import credential\n",
    "from tencentcloud.common.profile.client_profile import ClientProfile\n",
    "from tencentcloud.common.profile.http_profile import HttpProfile\n",
    "from tencentcloud.common.exception.tencent_cloud_sdk_exception import TencentCloudSDKException\n",
    "from tencentcloud.sms.v20210111 import sms_client, models\n",
    "# try:\n",
    "def sendmsg():\n",
    "    cred = credential.Credential(\"AKIDPdcKlwrVsynLO3UfbHgpeGepkPq1ygDV\", \"5tZy6xYw85mDOK0QbYFhtqXyA6oGSO5W\")\n",
    "    httpProfile = HttpProfile()\n",
    "    httpProfile.endpoint = \"sms.tencentcloudapi.com\"\n",
    "\n",
    "    clientProfile = ClientProfile()\n",
    "    clientProfile.httpProfile = httpProfile\n",
    "    client = sms_client.SmsClient(cred, \"ap-nanjing\", clientProfile)\n",
    "\n",
    "    req = models.SendSmsRequest()\n",
    "    params = {\n",
    "        \"PhoneNumberSet\": [\"15837009188\"],  # 手机号可输入多个，即群发消息\n",
    "        \"SmsSdkAppId\": \"1400591238\",  # appid，每个账户唯一\n",
    "        \"SignName\": \"隔壁的王子燊\",  # 签名， 每个账户唯一\n",
    "        \"TemplateId\": \"1185363\",  # 正文模板ID，不同模板改不同\n",
    "        \"TemplateParamSet\": [ \"有\", \"有\", \"无\" ]\n",
    "    }\n",
    "    req.from_json_string(json.dumps(params))\n",
    "\n",
    "    resp = client.SendSms(req)\n",
    "    print(resp.to_json_string())\n",
    "print('def init')"
   ]
  },
  {
   "cell_type": "code",
   "execution_count": 12,
   "metadata": {},
   "outputs": [
    {
     "name": "stdout",
     "output_type": "stream",
     "text": [
      "{\"SendStatusSet\": [{\"SerialNo\": \"2433:92703522616368767192410918\", \"PhoneNumber\": \"+8615837009188\", \"Fee\": 1, \"SessionContext\": \"\", \"Code\": \"Ok\", \"Message\": \"send success\", \"IsoCode\": \"CN\"}], \"RequestId\": \"80768683-ebe8-4b84-abb3-6595a3f8c20e\"}\n"
     ]
    }
   ],
   "source": [
    "sendmsg()"
   ]
  },
  {
   "cell_type": "code",
   "execution_count": null,
   "metadata": {},
   "outputs": [],
   "source": []
  }
 ],
 "metadata": {
  "kernelspec": {
   "display_name": "Python 3",
   "language": "python",
   "name": "python3"
  },
  "language_info": {
   "codemirror_mode": {
    "name": "ipython",
    "version": 3
   },
   "file_extension": ".py",
   "mimetype": "text/x-python",
   "name": "python",
   "nbconvert_exporter": "python",
   "pygments_lexer": "ipython3",
   "version": "3.6.5"
  }
 },
 "nbformat": 4,
 "nbformat_minor": 2
}
